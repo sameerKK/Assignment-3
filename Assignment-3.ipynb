{
 "cells": [
  {
   "cell_type": "markdown",
   "metadata": {},
   "source": [
    "<h3>Q no 1:  Write a python program to find number of occurrences of given number in a list with out using built-in methods</h3>\n",
    "<h4>**1 generate a list of some random num which is repeated again and again</h4>\n",
    "<h4>**2 take user input any number</h4>\n",
    "<h4>**3 find the number of occurrences of that num in your list</h4>\n",
    "<h4>**4 print some message to user with that result</h4>"
   ]
  },
  {
   "cell_type": "code",
   "execution_count": 26,
   "metadata": {},
   "outputs": [
    {
     "name": "stdout",
     "output_type": "stream",
     "text": [
      "Enter any number to find out its occurance: 754\n"
     ]
    }
   ],
   "source": [
    "random = [1,32,754,33,231,1,754,3,0,6,3,45,32,1,3]\n",
    "inputnumber=int(input(\"Enter any number to find out its occurance: \"))"
   ]
  },
  {
   "cell_type": "code",
   "execution_count": 28,
   "metadata": {},
   "outputs": [
    {
     "name": "stdout",
     "output_type": "stream",
     "text": [
      "Occurance 2\n"
     ]
    }
   ],
   "source": [
    "occurance=0\n",
    "for i in random:\n",
    "    if(inputnumber==i):\n",
    "        occurance+=1\n",
    "print(\"Occurance\",occurance )"
   ]
  },
  {
   "cell_type": "markdown",
   "metadata": {},
   "source": [
    "<h3>Q no 2:   [\"www.zframez.com\", \"www.wikipedia.org\", \"www.asp.net\", \"www.abcd.in\"]\n",
    "<br/><br/><br/><br/><br/>\n",
    "Write a python program to print website suffixes (com , org , net ,in) from this list\n",
    "\n",
    "Hint : Use split() method to perform this task\n",
    "</h3>\n"
   ]
  },
  {
   "cell_type": "code",
   "execution_count": 3,
   "metadata": {},
   "outputs": [
    {
     "name": "stdout",
     "output_type": "stream",
     "text": [
      "com\n",
      "org\n",
      "net\n",
      "in\n"
     ]
    }
   ],
   "source": [
    "lst = [\"www.zframez.com\",\"www.wikipedia.org\",\"www.asp.net\",\"www.abcd.in\"]\n",
    "for i in lst:\n",
    "    print(i.split('.')[-1])"
   ]
  },
  {
   "cell_type": "code",
   "execution_count": null,
   "metadata": {},
   "outputs": [],
   "source": []
  },
  {
   "cell_type": "markdown",
   "metadata": {},
   "source": [
    "<h3> Q no 3 : Write a program which can compute the factorial of a given numbers.</h3>\n",
    "<br/>\n",
    "<br/>\n",
    "<h4>**1 first take user input any number</h4>\n",
    "<h4>**2 calculate factorial of that input and then print the result to user</h4>"
   ]
  },
  {
   "cell_type": "code",
   "execution_count": 7,
   "metadata": {},
   "outputs": [
    {
     "name": "stdout",
     "output_type": "stream",
     "text": [
      "Enter any number:5\n",
      "factorial of  5 is  120\n"
     ]
    }
   ],
   "source": [
    "num = int(input(\"Enter any number:\"))\n",
    "fact = 1\n",
    "for i in range(1,num + 1):\n",
    "    fact = fact * i\n",
    "print(\"factorial of \",num,\"is \",fact)"
   ]
  },
  {
   "cell_type": "code",
   "execution_count": null,
   "metadata": {},
   "outputs": [],
   "source": []
  },
  {
   "cell_type": "code",
   "execution_count": null,
   "metadata": {},
   "outputs": [],
   "source": []
  },
  {
   "cell_type": "code",
   "execution_count": null,
   "metadata": {},
   "outputs": [],
   "source": []
  },
  {
   "cell_type": "markdown",
   "metadata": {},
   "source": [
    "<h3>Q 4 (a) :  If you could invite anyone, living or deceased, to dinner, who\n",
    "would you invite? Make a list that includes at least three people you’d like to\n",
    "invite to dinner. Then use your list to print a message to each person, inviting\n",
    "them to dinner.</h3>"
   ]
  },
  {
   "cell_type": "code",
   "execution_count": 11,
   "metadata": {},
   "outputs": [
    {
     "name": "stdout",
     "output_type": "stream",
     "text": [
      "I am inviting for a dinner ! \n",
      "Your presence will highly appricated! \n",
      " Sameer\n",
      "I am inviting for a dinner ! \n",
      "Your presence will highly appricated! \n",
      " Sharjeel\n",
      "I am inviting for a dinner ! \n",
      "Your presence will highly appricated! \n",
      " Rafay\n"
     ]
    }
   ],
   "source": [
    "person = [\"Sameer\",\"Sharjeel\",\"Rafay\"]\n",
    "print(\"I am inviting for a dinner ! \\nYour presence will highly appricated! \\n\",person[0])\n",
    "print(\"I am inviting for a dinner ! \\nYour presence will highly appricated! \\n\",person[1])\n",
    "print(\"I am inviting for a dinner ! \\nYour presence will highly appricated! \\n\",person[2])"
   ]
  },
  {
   "cell_type": "code",
   "execution_count": null,
   "metadata": {},
   "outputs": [],
   "source": []
  },
  {
   "cell_type": "code",
   "execution_count": null,
   "metadata": {},
   "outputs": [],
   "source": []
  },
  {
   "cell_type": "markdown",
   "metadata": {},
   "source": [
    "<h3>Q 4 (b) : You just heard that one of your guests can’t make the\n",
    "dinner, so you need to send out a new set of invitations. You’ll have to think of\n",
    "someone else to invite.<br/></br><br/>\n",
    "•\t Start with your program from Q 4 (a). Add a print statement at the\n",
    "end of your program stating the name of the guest who can’t make it.<br/></br><br/>\n",
    "•\t Modify your list, replacing the name of the guest who can’t make it with\n",
    "the name of the new person you are inviting.<br/></br><br/>\n",
    "•\t Print a second set of invitation messages, one for each person who is still\n",
    "in your list.<br/></br><br/></h3>"
   ]
  },
  {
   "cell_type": "code",
   "execution_count": 4,
   "metadata": {},
   "outputs": [
    {
     "name": "stdout",
     "output_type": "stream",
     "text": [
      "I am inviting for a dinner ! \n",
      "Your presence will highly appricated! \n",
      " Sameer\n",
      "I am inviting for a dinner ! \n",
      "Your presence will highly appricated! \n",
      " Sharjeel\n",
      "I am inviting for a dinner ! \n",
      "Your presence will highly appricated! \n",
      " Rafay\n"
     ]
    }
   ],
   "source": [
    "person = [\"Sameer\",\"Sharjeel\",\"Rafay\"]\n",
    "print(\"I am inviting for a dinner ! \\nYour presence will highly appricated! \\n\",person[0])\n",
    "print(\"I am inviting for a dinner ! \\nYour presence will highly appricated! \\n\",person[1])\n",
    "print(\"I am inviting for a dinner ! \\nYour presence will highly appricated! \\n\",person[2])\n"
   ]
  },
  {
   "cell_type": "code",
   "execution_count": 6,
   "metadata": {},
   "outputs": [
    {
     "name": "stdout",
     "output_type": "stream",
     "text": [
      "Sharjeel sorry I'll not able to attend\n"
     ]
    }
   ],
   "source": [
    "print(person[1],\"sorry I'll not able to attend\")"
   ]
  },
  {
   "cell_type": "code",
   "execution_count": 8,
   "metadata": {},
   "outputs": [
    {
     "name": "stdout",
     "output_type": "stream",
     "text": [
      "I am inviting for a dinner ! \n",
      "Your presence will highly appricated! \n",
      " Hammad\n"
     ]
    }
   ],
   "source": [
    "person[1]=\"Hammad\"\n",
    "print(\"I am inviting for a dinner ! \\nYour presence will highly appricated! \\n\",person[1])"
   ]
  },
  {
   "cell_type": "markdown",
   "metadata": {},
   "source": [
    "<h3>Q 4 (c) : You just found a bigger dinner table, so now more space is\n",
    "available. Think of three more guests to invite to dinner.<br/></br><br/>\n",
    "•\t Start with your program from Q 4 (a) and (b) Add a print\n",
    "statement to the end of your program informing people that you found a\n",
    "bigger dinner table.<br/></br><br/>\n",
    "•\t Use insert() to add one new guest to the beginning of your list.<br/></br><br/>\n",
    "•\t Use insert() to add one new guest to the middle of your list.<br/></br><br/>\n",
    "•\t Use append() to add one new guest to the end of your list.<br/></br><br/>\n",
    "•\t Print a new set of invitation messages, one for each person in your list.<br/></br><br/></h3>"
   ]
  },
  {
   "cell_type": "code",
   "execution_count": 14,
   "metadata": {},
   "outputs": [
    {
     "name": "stdout",
     "output_type": "stream",
     "text": [
      "I am inviting for a dinner ! \n",
      "Your presence will highly appricated! \n",
      " Sameer\n",
      "I am inviting for a dinner ! \n",
      "Your presence will highly appricated! \n",
      " Sharjeel\n",
      "I am inviting for a dinner ! \n",
      "Your presence will highly appricated! \n",
      " Rafay\n",
      "Sharjeel sorry I'll not able to attend\n",
      "I am inviting for a dinner ! \n",
      "Your presence will highly appricated! \n",
      " Hammad\n",
      "Our table is too large so we have to invite more buddies :)\n",
      "You are inviting for a dinner guyz :) Umair\n",
      "You are inviting for a dinner guyz :) Sameer\n",
      "You are inviting for a dinner guyz :) Saboor\n",
      "You are inviting for a dinner guyz :) Hammad\n",
      "You are inviting for a dinner guyz :) Rafay\n"
     ]
    }
   ],
   "source": [
    "person = [\"Sameer\",\"Sharjeel\",\"Rafay\"]\n",
    "for names in person:\n",
    "    print(\"I am inviting for a dinner ! \\nYour presence will highly appricated! \\n\",names)\n",
    "print(person[1],\"sorry I'll not able to attend\")\n",
    "person[1]=\"Hammad\"\n",
    "print(\"I am inviting for a dinner ! \\nYour presence will highly appricated! \\n\",person[1])\n",
    "person.insert(0,\"Umair\")\n",
    "person.insert(2,\"Saboor\")\n",
    "print(\"Our table is too large so we have to invite more buddies :)\")\n",
    "for names in person:\n",
    "    print(\"You are inviting for a dinner guyz :)\",names)"
   ]
  },
  {
   "cell_type": "code",
   "execution_count": null,
   "metadata": {},
   "outputs": [],
   "source": []
  },
  {
   "cell_type": "code",
   "execution_count": null,
   "metadata": {},
   "outputs": [],
   "source": []
  },
  {
   "cell_type": "markdown",
   "metadata": {},
   "source": [
    "<h5> Q 5 : Here you have some data in variable below, your task is to make a list of specific word Surah then print the list and length of list</h5>\n"
   ]
  },
  {
   "cell_type": "code",
   "execution_count": 32,
   "metadata": {},
   "outputs": [],
   "source": [
    "data=\"Sura I Who believe in the Unseen, Sura Are steadfast in prayer, And spend Sura out of what We Have provided for them;\"\n"
   ]
  },
  {
   "cell_type": "code",
   "execution_count": null,
   "metadata": {},
   "outputs": [],
   "source": []
  },
  {
   "cell_type": "markdown",
   "metadata": {},
   "source": [
    " <h3>Q no 6 : You have some name of cities in list named cities, Your task is to check whether Karachi is present in this list or not, if present print the index where the value Karachi is present</h3>"
   ]
  },
  {
   "cell_type": "code",
   "execution_count": 17,
   "metadata": {},
   "outputs": [
    {
     "name": "stdout",
     "output_type": "stream",
     "text": [
      "2\n"
     ]
    }
   ],
   "source": [
    "cities= [\"Hyderabad\",\"Quetta\",\"Karachi\",\"Lahore\"]\n",
    "for city in cities:\n",
    "    if(city==\"Karachi\"):\n",
    "        print(cities.index('Karachi'))\n",
    "        "
   ]
  },
  {
   "cell_type": "code",
   "execution_count": null,
   "metadata": {},
   "outputs": [],
   "source": []
  },
  {
   "cell_type": "code",
   "execution_count": null,
   "metadata": {},
   "outputs": [],
   "source": []
  }
 ],
 "metadata": {
  "kernelspec": {
   "display_name": "Python 3",
   "language": "python",
   "name": "python3"
  },
  "language_info": {
   "codemirror_mode": {
    "name": "ipython",
    "version": 3
   },
   "file_extension": ".py",
   "mimetype": "text/x-python",
   "name": "python",
   "nbconvert_exporter": "python",
   "pygments_lexer": "ipython3",
   "version": "3.7.3"
  }
 },
 "nbformat": 4,
 "nbformat_minor": 2
}
